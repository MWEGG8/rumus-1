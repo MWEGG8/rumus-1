{
  "nbformat": 4,
  "nbformat_minor": 0,
  "metadata": {
    "colab": {
      "provenance": [],
      "authorship_tag": "ABX9TyMl2lHAder2iKnFU9uSTV8K",
      "include_colab_link": true
    },
    "kernelspec": {
      "name": "python3",
      "display_name": "Python 3"
    },
    "language_info": {
      "name": "python"
    }
  },
  "cells": [
    {
      "cell_type": "markdown",
      "metadata": {
        "id": "view-in-github",
        "colab_type": "text"
      },
      "source": [
        "<a href=\"https://colab.research.google.com/github/MWEGG8/rumus-1/blob/main/rumus_1.ipynb\" target=\"_parent\"><img src=\"https://colab.research.google.com/assets/colab-badge.svg\" alt=\"Open In Colab\"/></a>"
      ]
    },
    {
      "cell_type": "code",
      "execution_count": null,
      "metadata": {
        "id": "aoiqje2wfYv-"
      },
      "outputs": [],
      "source": []
    },
    {
      "cell_type": "markdown",
      "source": [
        "kelompok 2"
      ],
      "metadata": {
        "id": "v-enNYm1fbd-"
      }
    },
    {
      "cell_type": "code",
      "source": [
        "panjang = 50\n",
        "lebar = 20\n",
        "luas = panjang * lebar\n",
        "print(\"luas persegi panjang adalah\",luas,\"cm\")"
      ],
      "metadata": {
        "colab": {
          "base_uri": "https://localhost:8080/"
        },
        "id": "HDVjxIGhfd3P",
        "outputId": "118f0d1b-e9f0-41e9-d228-07856d1405a1"
      },
      "execution_count": 1,
      "outputs": [
        {
          "output_type": "stream",
          "name": "stdout",
          "text": [
            "luas persegi panjang adalah 1000 cm\n"
          ]
        }
      ]
    }
  ]
}